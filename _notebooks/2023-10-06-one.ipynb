{
 "cells": [
  {
   "cell_type": "markdown",
   "metadata": {},
   "source": [
    "---\n",
    "layout: post\n",
    "title: The Armeneggon\n",
    "description: Level one of our game\n",
    "courses: { compsci: {week: 7}}\n",
    "type: tangibles\n",
    "permalink: /game/level-one-basic\n",
    "---"
   ]
  },
  {
   "cell_type": "raw",
   "metadata": {},
   "source": [
    "{% include nav_game.html %}"
   ]
  },
  {
   "cell_type": "markdown",
   "metadata": {},
   "source": [
    "The basic version of the game\n"
   ]
  },
  {
   "cell_type": "raw",
   "metadata": {},
   "source": [
    "%%html\n",
    "<style>\n",
    "    canvas {\n",
    "        margin: 0;\n",
    "        border: 1px solid dark gray;\n",
    "    }\n",
    "</style>\n",
    "\n",
    "<canvas id='canvas'></canvas>\n",
    "<script>\n",
    "let canvas = document.getElementbyID('canvas')\n",
    "let ctx = canvas.getContext('2d')\n",
    "canvas.width = 3000\n",
    "canvas.height = 5336\n",
    "\n"
   ]
  }
 ],
 "metadata": {
  "language_info": {
   "name": "python"
  }
 },
 "nbformat": 4,
 "nbformat_minor": 2
}
