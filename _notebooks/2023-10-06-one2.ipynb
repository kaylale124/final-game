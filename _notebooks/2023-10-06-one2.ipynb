{
 "cells": [
  {
   "cell_type": "markdown",
   "metadata": {},
   "source": [
    "---\n",
    "layout: post\n",
    "title: The Armeneggon\n",
    "description: Level one of our game\n",
    "courses: { compsci: {week: 7}}\n",
    "type: tangibles\n",
    "permalink: /game/level-one-basic\n",
    "---"
   ]
  },
  {
   "cell_type": "raw",
   "metadata": {},
   "source": [
    "{% include nav_game.html %}"
   ]
  },
  {
   "cell_type": "markdown",
   "metadata": {},
   "source": [
    "The basic version of the game"
   ]
  },
  {
   "cell_type": "code",
   "execution_count": 2,
   "metadata": {},
   "outputs": [
    {
     "data": {
      "text/html": [
       "<style>\n",
       "    canvas {\n",
       "        margin: 0;\n",
       "        border: 1px solid pink;\n",
       "    }\n",
       "</style>\n",
       "\n",
       "<canvas id='canvas'></canvas>\n",
       "<script>\n",
       "let canvas = document.getElementById('canvas')\n",
       "canvas.width = 375\n",
       "canvas.height = 667\n",
       "let ctx = canvas.getContext('2d')\n",
       "\n",
       "// NEW CODE - CREATE GENERICOBJECT CLASS FOR THE BACKGROUND IMAGES\n",
       "    class GenericObject {\n",
       "        constructor({ x, y, image }) {\n",
       "            this.position = {\n",
       "                x,\n",
       "                y\n",
       "            };\n",
       "            this.image = image;\n",
       "            this.width = 760;\n",
       "            this.height = 82;\n",
       "        }\n",
       "        // Method to draw the generic object on the canvas\n",
       "        draw() {\n",
       "            ctx.drawImage(this.image, this.position.x, this.position.y);\n",
       "        }\n",
       "    }\n",
       "\n",
       "let imageBackground = new Image()\n",
       "imageBackground.src = 'https://raw.githubusercontent.com/kaylale124/final-game/main/images/invert_bkg.jpg'\n",
       "\n",
       "let genericObjects = [\n",
       "        new GenericObject({\n",
       "            x:0, y:0, image: imageBackground\n",
       "        })\n",
       "    ]\n",
       "</script>\n"
      ],
      "text/plain": [
       "<IPython.core.display.HTML object>"
      ]
     },
     "metadata": {},
     "output_type": "display_data"
    }
   ],
   "source": [
    "%%html\n",
    "<style>\n",
    "    canvas {\n",
    "        margin: 0;\n",
    "        border: 1px solid pink;\n",
    "    }\n",
    "</style>\n",
    "\n",
    "<canvas id='canvas'></canvas>\n",
    "<script>\n",
    "let canvas = document.getElementById('canvas')\n",
    "canvas.width = 375\n",
    "canvas.height = 667\n",
    "let ctx = canvas.getContext('2d')\n",
    "\n",
    "// NEW CODE - CREATE GENERICOBJECT CLASS FOR THE BACKGROUND IMAGES\n",
    "    class GenericObject {\n",
    "        constructor({ x, y, image }) {\n",
    "            this.position = {\n",
    "                x,\n",
    "                y\n",
    "            };\n",
    "            this.image = image;\n",
    "            this.width = 760;\n",
    "            this.height = 82;\n",
    "        }\n",
    "        // Method to draw the generic object on the canvas\n",
    "        draw() {\n",
    "            ctx.drawImage(this.image, this.position.x, this.position.y);\n",
    "        }\n",
    "    }\n",
    "\n",
    "let imageBackground = new Image()\n",
    "imageBackground.src = 'https://raw.githubusercontent.com/kaylale124/final-game/main/images/invert_bkg.jpg'\n",
    "\n",
    "let genericObjects = [\n",
    "        new GenericObject({\n",
    "            x:0, y:0, image: imageBackground\n",
    "        })\n",
    "    ]\n",
    "</script>"
   ]
  }
 ],
 "metadata": {
  "kernelspec": {
   "display_name": "Python 3",
   "language": "python",
   "name": "python3"
  },
  "language_info": {
   "codemirror_mode": {
    "name": "ipython",
    "version": 3
   },
   "file_extension": ".py",
   "mimetype": "text/x-python",
   "name": "python",
   "nbconvert_exporter": "python",
   "pygments_lexer": "ipython3",
   "version": "3.11.5"
  }
 },
 "nbformat": 4,
 "nbformat_minor": 2
}
