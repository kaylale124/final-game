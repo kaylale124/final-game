{
 "cells": [
  {
   "cell_type": "markdown",
   "metadata": {},
   "source": [
    "---\n",
    "layout: post\n",
    "toc: true\n",
    "title: Maryam Individual Review\n",
    "description: Summary of learning, contributions, and key events\n",
    "type: tangibles\n",
    "courses: { compsci: {week: 8} }\n",
    "---"
   ]
  },
  {
   "cell_type": "markdown",
   "metadata": {},
   "source": [
    "## Issue Review\n",
    "\n",
    "### [Week 1](https://github.com/kaylale124/final-game/issues/1)\n",
    "- [Drew canvas including background image](https://github.com/kaylale124/final-game/commit/08f463f756dc325a9989481b8a9419ad6e39375e)\n",
    "- [Set background dimensions](https://github.com/kaylale124/final-game/commit/43f8181863590832901dea411086be52b2800b0a)\n",
    "- [Positioned canvas on screen](https://github.com/kaylale124/final-game/commit/98940f5893bc41637988ead0cab1f8c817a6119e)\n",
    "- Created invert button\n",
    "    - [Updated to automatically invert](https://github.com/kaylale124/final-game/commit/0c5ccca6940d3c4a08d7d96a9105b0501809c57a)\n",
    "- [Created start screen](https://github.com/kaylale124/final-game/commit/b84edb019d92eae833be8009f64712bfb5093835)\n",
    "\n",
    "### [Week 2](https://github.com/kaylale124/final-game/issues/2)\n",
    "- Worked on resizing canvas to adjust for header\n",
    "- [Worked on `textBackground` element](https://github.com/kaylale124/final-game/commit/db48889de912c476a6d3cda360f91f56a109cb06)\n",
    "    - Resized\n",
    "    - [Tried to make universal](https://github.com/kaylale124/final-game/commit/642cda582246e51b51d3a2a073e2679a2bc5e711)\n",
    "    - [Ultimately scrapped this portion](https://github.com/kaylale124/final-game/commit/dcf96ad4ea8fbcf834c32a7d5ae3a84649977c5d)\n",
    "- [Made `backgroundImage` universal](https://github.com/kaylale124/final-game/commit/1235ae9c492c0a20dfbc446209f2f8be742ae18a)\n",
    "- [Edited `startGame()` function to remove some elements from screen upon button press](https://github.com/kaylale124/final-game/commit/83b8701f60558736539b0e20cac71f76a424f9eb)\n",
    "\n",
    "### [Week 3](https://github.com/kaylale124/final-game/issues/3)\n",
    "- [Attempted to begin OOP integration](https://github.com/kaylale124/final-game/commit/90697e283573100111692804a7614824b06298b1)\n",
    "- [Replaced CSS styles with imported stylesheet](https://github.com/kaylale124/final-game/commit/2d6728253b7ff5abd655ec6df9864d5a5d4ff61c)\n",
    "- [Moved main game to index.html and changed some menu tabs](https://github.com/kaylale124/final-game/commit/f4736e34dde20ad7374218c3ff5cc38630b81599)\n",
    "\n",
    "I did a lot of trial and error for this stage of my code so I have little to show in commits as a lot of my code was nonfunctional and never pushed"
   ]
  },
  {
   "cell_type": "markdown",
   "metadata": {},
   "source": [
    "## Canvas and Background\n",
    "\n",
    "Set `backgroundImg` to appear `.onload` by setting dimensions and other properties\n",
    "````js\n",
    "    const canvasWidth = maxWidth;\n",
    "    const canvasHeight = canvasWidth / ASPECT_RATIO;  // height is oriented by width\n",
    "    const canvasLeft = 0;\n",
    "    const canvasTop = 60;\n",
    "    \n",
    "    // Set dimensions for the background canvas\n",
    "    canvas.width = WIDTH / ADJUST;\n",
    "    canvas.height = HEIGHT / ADJUST;\n",
    "\n",
    "    // Set Style properties for the background canvas\n",
    "    canvas.style.width = `${canvasWidth}px`;\n",
    "    canvas.style.height = `${canvasHeight}px`;\n",
    "    canvas.style.position = 'absolute';\n",
    "    canvas.style.left = `${canvasLeft}px`;\n",
    "    canvas.style.top = `${canvasTop}px`;\n",
    "````\n",
    "\n",
    "\n",
    "Drew backgroundImg onto canvas\n",
    "````js\n",
    "    draw() {\n",
    "        ctx.drawImage(backgroundImg, 0, 0, canvas.width, canvas.height);\n",
    "    }\n",
    "````\n",
    "\n",
    "Function to invert colors to fix display issues\n",
    "````js\n",
    "    //Invert the colors\n",
    "    var isFilterEnabled = true;\n",
    "    const defaultFilter = getComputedStyle(document.documentElement).getPropertyValue('--default-canvas-filter');\n",
    "    if (isFilterEnabled) {\n",
    "        canvas.style.filter = \"none\";  // remove filter\n",
    "    } else {\n",
    "        canvas.style.filter = defaultFilter; // Apply the default filter value\n",
    "    }\n",
    "````"
   ]
  }
 ],
 "metadata": {
  "language_info": {
   "name": "python"
  }
 },
 "nbformat": 4,
 "nbformat_minor": 2
}
