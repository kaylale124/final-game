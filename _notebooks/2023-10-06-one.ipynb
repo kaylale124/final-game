{
 "cells": [
  {
   "cell_type": "markdown",
   "metadata": {},
   "source": [
    "---\n",
    "layout: post\n",
    "title: The Armeneggon\n",
    "description: Level one of our game\n",
    "courses: { compsci: {week: 7}}\n",
    "type: tangibles\n",
    "permalink: /game/level-one-basic\n",
    "---"
   ]
  },
  {
   "cell_type": "raw",
   "metadata": {},
   "source": [
    "{% include nav_game.html %}"
   ]
  },
  {
   "cell_type": "markdown",
   "metadata": {},
   "source": [
    "The basic version of the game\n"
   ]
  },
  {
   "cell_type": "raw",
   "metadata": {},
   "source": [
    "%%html\n",
    "<style>\n",
    "    canvas {\n",
    "        margin: 0;\n",
    "        border: 1px solid dark gray;\n",
    "    }\n",
    "</style>\n",
    "\n",
    "<canvas id='canvas'></canvas>\n",
    "<script>\n",
    "let canvas = document.getElementbyID('canvas')\n",
    "let ctx = canvas.getContext('2d')\n",
<<<<<<< HEAD
    "canvas.width = 3000\n",
    "canvas.height = 5336\n",
    "\n"
=======
    "\n",
    "// NEW CODE - CREATE GENERICOBJECT CLASS FOR THE BACKGROUND IMAGES\n",
    "    class GenericObject {\n",
    "        constructor({ x, y, image }) {\n",
    "            this.position = {\n",
    "                x,\n",
    "                y\n",
    "            };\n",
    "            this.image = image;\n",
    "            this.width = 760;\n",
    "            this.height = 82;\n",
    "        }\n",
    "        // Method to draw the generic object on the canvas\n",
    "        draw() {\n",
    "            ctx.drawImage(this.image, this.position.x, this.position.y);\n",
    "        }\n",
    "    }\n",
    "\n",
    "let imageBackground = new Image()\n",
    "imageBackground.src = 'https://raw.githubusercontent.com/kaylale124/final-game/main/images/invert_bkg.jpg'\n",
    "\n",
    "let genericObjects = [\n",
    "        new GenericObject({\n",
    "            x:0, y:0, image: imageBackground\n",
    "        })\n",
    "    ]\n",
    "</script>"
>>>>>>> 475dd06be46eee10eb0d8fb1c933ac01059bcdd6
   ]
  }
 ],
 "metadata": {
  "language_info": {
   "name": "python"
  }
 },
 "nbformat": 4,
 "nbformat_minor": 2
}
