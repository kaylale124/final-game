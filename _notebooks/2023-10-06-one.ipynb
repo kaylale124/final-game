{
 "cells": [
  {
   "cell_type": "markdown",
   "metadata": {},
   "source": [
    "---\n",
    "layout: post\n",
    "title: The Armeneggon\n",
    "description: Level one of our game\n",
    "courses: { compsci: {week: 7}}\n",
    "type: tangibles\n",
    "permalink: /game/level-one-basic\n",
    "---"
   ]
  },
  {
   "cell_type": "raw",
   "metadata": {},
   "source": [
    "{% include nav_game.html %}\n"
   ]
  },
  {
   "cell_type": "markdown",
   "metadata": {},
   "source": [
    "## Level One\n",
    "The basic version of the game\n"
   ]
  }
 ],
 "metadata": {
  "language_info": {
   "name": "python"
  }
 },
 "nbformat": 4,
 "nbformat_minor": 2
}
