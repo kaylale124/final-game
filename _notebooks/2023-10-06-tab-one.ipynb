{
 "cells": [
  {
   "cell_type": "markdown",
   "metadata": {},
   "source": [
    "---\n",
    "layout: post\n",
    "title: The Armeneggon\n",
    "description: \"Level one\" of our game\n",
    "courses: { compsci: {week: 7}}\n",
    "type: hacks\n",
    "permalink: /game/tab-one-basic\n",
    "---"
   ]
  },
  {
   "cell_type": "markdown",
   "metadata": {},
   "source": [
    "## Level One\n",
    "The basics"
   ]
  }
 ],
 "metadata": {
  "language_info": {
   "name": "python"
  }
 },
 "nbformat": 4,
 "nbformat_minor": 2
}
